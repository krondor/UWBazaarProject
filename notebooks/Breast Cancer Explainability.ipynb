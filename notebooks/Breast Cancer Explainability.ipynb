{
    "cells": [
        {
            "cell_type": "code",
            "execution_count": null,
            "metadata": {},
            "outputs": [],
            "source": "!pip install aix360"
        },
        {
            "cell_type": "code",
            "execution_count": null,
            "metadata": {},
            "outputs": [],
            "source": "from sklearn.datasets import load_breast_cancer\nbc = load_breast_cancer()"
        },
        {
            "cell_type": "code",
            "execution_count": null,
            "metadata": {},
            "outputs": [],
            "source": "import pandas as pd\nbc_df = pd.DataFrame(bc.data, columns=bc.feature_names)\nbc_df.head()"
        },
        {
            "cell_type": "code",
            "execution_count": null,
            "metadata": {},
            "outputs": [],
            "source": "print(bc.feature_names)"
        },
        {
            "cell_type": "code",
            "execution_count": null,
            "metadata": {},
            "outputs": [],
            "source": "from sklearn.model_selection import train_test_split\n\nX_train, X_test, Y_train, Y_test = train_test_split(bc_df, bc.target, test_size = 0.2, random_state = 31)\nprint(X_train.shape)\nprint(Y_train.shape)\nprint(X_test.shape)\nprint(Y_test.shape)"
        },
        {
            "cell_type": "code",
            "execution_count": null,
            "metadata": {},
            "outputs": [],
            "source": "from aix360.algorithms.rbm import FeatureBinarizer\n\nfb = FeatureBinarizer(negations=True)\nX_train_fb = fb.fit_transform(X_train)\nX_test_fb = fb.transform(X_test)\nX_train_fb['mean radius'][:8]"
        },
        {
            "cell_type": "code",
            "execution_count": null,
            "metadata": {},
            "outputs": [],
            "source": "from aix360.algorithms.rbm import GLRMExplainer, LogisticRuleRegression"
        },
        {
            "cell_type": "code",
            "execution_count": null,
            "metadata": {},
            "outputs": [],
            "source": "logistic_model = LogisticRuleRegression(maxSolverIter=2000)\nexplainer = GLRMExplainer(logistic_model)\nexplainer.fit(X_train_fb, Y_train)"
        },
        {
            "cell_type": "code",
            "execution_count": null,
            "metadata": {},
            "outputs": [],
            "source": "Y_pred = explainer.predict(X_test_fb)"
        },
        {
            "cell_type": "code",
            "execution_count": null,
            "metadata": {},
            "outputs": [],
            "source": "from sklearn.metrics import accuracy_score, precision_score, recall_score, f1_score\nprint(f'Accuracy = {accuracy_score(Y_test, Y_pred)}')\nprint(f'Precision = {precision_score(Y_test, Y_pred, average=\"macro\")}')\nprint(f'Recall = {recall_score(Y_test, Y_pred, average=\"macro\")}')\nprint(f'F1 = {f1_score(Y_test, Y_pred, average=\"macro\")}')"
        },
        {
            "cell_type": "code",
            "execution_count": null,
            "metadata": {
                "scrolled": false
            },
            "outputs": [],
            "source": "explainer.explain()"
        },
        {
            "cell_type": "code",
            "execution_count": null,
            "metadata": {
                "scrolled": false
            },
            "outputs": [],
            "source": "%matplotlib inline\n\nfb = FeatureBinarizer(negations=True)\nfigs, _ = explainer.visualize(bc_df, fb)"
        },
        {
            "cell_type": "code",
            "execution_count": null,
            "metadata": {},
            "outputs": [],
            "source": ""
        }
    ],
    "metadata": {
        "kernelspec": {
            "display_name": "Python 3.7",
            "language": "python",
            "name": "python3"
        },
        "language_info": {
            "codemirror_mode": {
                "name": "ipython",
                "version": 3
            },
            "file_extension": ".py",
            "mimetype": "text/x-python",
            "name": "python",
            "nbconvert_exporter": "python",
            "pygments_lexer": "ipython3",
            "version": "3.7.9"
        }
    },
    "nbformat": 4,
    "nbformat_minor": 2
}